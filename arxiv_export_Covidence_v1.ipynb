{
 "cells": [
  {
   "cell_type": "code",
   "execution_count": null,
   "metadata": {},
   "outputs": [],
   "source": [
    "import arxiv\n",
    "import rispy"
   ]
  },
  {
   "cell_type": "code",
   "execution_count": null,
   "metadata": {},
   "outputs": [],
   "source": [
    "search = arxiv.Search(\n",
    "  query = '(\"CT\" OR \"computed tomography\" OR \"computerized tomography\") AND (\"deep learning\" OR \"machine learning\" OR \"artificial intelligence\")',\n",
    "  max_results = 5000,\n",
    "  sort_by = arxiv.SortCriterion.SubmittedDate,\n",
    "  sort_order = arxiv.SortOrder.Descending\n",
    ")"
   ]
  },
  {
   "cell_type": "code",
   "execution_count": null,
   "metadata": {},
   "outputs": [],
   "source": [
    "ids = []\n",
    "authors = []\n",
    "published = []\n",
    "summaries = []\n",
    "titles = []\n",
    "for result in search.results():\n",
    "    ids.append(result.entry_id)\n",
    "    authors.append(result.authors)\n",
    "    published.append(result.published)\n",
    "    summaries.append(result.summary)\n",
    "    titles.append(result.title)"
   ]
  },
  {
   "cell_type": "code",
   "execution_count": null,
   "metadata": {},
   "outputs": [],
   "source": [
    "print(len(titles), 'studies found')"
   ]
  },
  {
   "cell_type": "code",
   "execution_count": null,
   "metadata": {},
   "outputs": [],
   "source": [
    "def get_authors(author_list):\n",
    "    aut = []\n",
    "    for author in author_list:\n",
    "        aut.append(author.name)\n",
    "    \n",
    "    return aut\n",
    "\n",
    "def get_date(datetime):\n",
    "    date = datetime.date().strftime('%d, %b %Y')\n",
    "    return datetime"
   ]
  },
  {
   "cell_type": "code",
   "execution_count": null,
   "metadata": {},
   "outputs": [],
   "source": [
    "entries = []\n",
    "for i in range(len(titles)):\n",
    "    print(i)\n",
    "    title = titles[i]\n",
    "    auth = get_authors(authors[i])\n",
    "    summary = summaries[i]\n",
    "    date = get_date(published[i])\n",
    "    id = ids[i]\n",
    "    entry = {'type_of_reference': 'JOUR',\n",
    "             'primary_title': title,\n",
    "             'first_authors': auth,\n",
    "             'id': id,\n",
    "             'abstract' : summary\n",
    "            }\n",
    "    entries.append(entry)"
   ]
  },
  {
   "cell_type": "code",
   "execution_count": null,
   "metadata": {},
   "outputs": [],
   "source": [
    "entries"
   ]
  },
  {
   "cell_type": "code",
   "execution_count": null,
   "metadata": {},
   "outputs": [],
   "source": [
    "import math\n",
    "filepath = \"export.ris\"\n",
    "not_read = 0\n",
    "with open(filepath, 'w', encoding=\"utf-8\") as bibliography_file:\n",
    "        rispy.dump(entries, bibliography_file)"
   ]
  }
 ],
 "metadata": {
  "kernelspec": {
   "display_name": "Python 3",
   "language": "python",
   "name": "python3"
  },
  "language_info": {
   "codemirror_mode": {
    "name": "ipython",
    "version": 3
   },
   "file_extension": ".py",
   "mimetype": "text/x-python",
   "name": "python",
   "nbconvert_exporter": "python",
   "pygments_lexer": "ipython3",
   "version": "3.8.5"
  }
 },
 "nbformat": 4,
 "nbformat_minor": 4
}
